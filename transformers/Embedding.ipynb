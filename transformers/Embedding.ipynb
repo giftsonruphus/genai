{
 "cells": [
  {
   "cell_type": "code",
   "execution_count": 7,
   "id": "9df8a68e-e5af-44c8-b32b-96ff1490eb93",
   "metadata": {},
   "outputs": [],
   "source": [
    "import torch\n",
    "from torchtext.data.utils import get_tokenizer\n",
    "from torchtext.vocab import build_vocab_from_iterator\n",
    "import torch.nn as nn"
   ]
  },
  {
   "cell_type": "code",
   "execution_count": 2,
   "id": "32482a5e-acc2-47b3-be5d-b23cdfaf22c3",
   "metadata": {},
   "outputs": [],
   "source": [
    "dataset = [\n",
    "\t\"I like cats\",\n",
    "\t\"I hate dogs\",\n",
    "\t\"I'm impartial to hippos\"\n",
    "]"
   ]
  },
  {
   "cell_type": "code",
   "execution_count": 3,
   "id": "3d3f8b18-0075-49de-a86d-778428d72d36",
   "metadata": {},
   "outputs": [],
   "source": [
    "tokenizer = get_tokenizer('spacy', 'en_core_web_sm')\n",
    "\n",
    "def yield_tokens(data_itr):\n",
    "    for data_sample in data_itr:\n",
    "        yield tokenizer(data_sample)\n",
    "\n",
    "data_iter = iter(dataset)"
   ]
  },
  {
   "cell_type": "code",
   "execution_count": 4,
   "id": "e0fe8013-c5f5-4bad-8c04-ab436cc81b36",
   "metadata": {},
   "outputs": [
    {
     "data": {
      "text/plain": [
       "{'to': 8,\n",
       " 'hippos': 5,\n",
       " 'cats': 2,\n",
       " 'I': 0,\n",
       " \"'m\": 1,\n",
       " 'like': 7,\n",
       " 'dogs': 3,\n",
       " 'hate': 4,\n",
       " 'impartial': 6}"
      ]
     },
     "execution_count": 4,
     "metadata": {},
     "output_type": "execute_result"
    }
   ],
   "source": [
    "vocab = build_vocab_from_iterator(yield_tokens(data_iter))\n",
    "vocab.get_stoi()"
   ]
  },
  {
   "cell_type": "code",
   "execution_count": 5,
   "id": "06b358c2-3fc0-41e2-9db0-bb42af154c06",
   "metadata": {},
   "outputs": [],
   "source": [
    "input_ids = lambda x: [torch.tensor(vocab(tokenizer(data_sample))) for data_sample in dataset]"
   ]
  },
  {
   "cell_type": "code",
   "execution_count": 6,
   "id": "d81ead20-f7a1-43bd-b948-b3cf7937619c",
   "metadata": {},
   "outputs": [
    {
     "data": {
      "text/plain": [
       "[tensor([0, 7, 2]), tensor([0, 4, 3]), tensor([0, 1, 6, 8, 5])]"
      ]
     },
     "execution_count": 6,
     "metadata": {},
     "output_type": "execute_result"
    }
   ],
   "source": [
    "index = input_ids(dataset)\n",
    "index"
   ]
  },
  {
   "cell_type": "code",
   "execution_count": 8,
   "id": "66c5fc47-6096-41ba-a029-e974127df52d",
   "metadata": {},
   "outputs": [],
   "source": [
    "embedding_dim = 3\n",
    "n_embedding = len(vocab)\n",
    "embeds = nn.Embedding(n_embedding, embedding_dim)\n",
    "embeds"
   ]
  },
  {
   "cell_type": "code",
   "execution_count": 16,
   "id": "f3fde2b1-abbf-41c0-aaba-a0534125b21f",
   "metadata": {},
   "outputs": [
    {
     "name": "stdout",
     "output_type": "stream",
     "text": [
      "tensor([[-0.4790, -0.6981,  0.6997],\n",
      "        [-2.2306, -0.1350, -0.8695],\n",
      "        [-1.5711, -0.2814, -0.2066]], grad_fn=<EmbeddingBackward0>)\n",
      "tensor([[-0.4790, -0.6981,  0.6997],\n",
      "        [-1.1978,  0.5505, -0.2858],\n",
      "        [-0.5615,  2.6911,  0.2075],\n",
      "        [ 0.4864,  0.4192, -0.0505],\n",
      "        [-0.2478,  1.7505, -0.3507]], grad_fn=<EmbeddingBackward0>)\n"
     ]
    }
   ],
   "source": [
    "i_like_cats = embeds(index[0])\n",
    "print(i_like_cats)\n",
    "hippos = embeds(index[2])\n",
    "print(hippos)"
   ]
  },
  {
   "cell_type": "code",
   "execution_count": null,
   "id": "e8a534c4-2da7-4ca3-8c03-cd8218e3ba02",
   "metadata": {},
   "outputs": [],
   "source": []
  },
  {
   "cell_type": "markdown",
   "id": "7121730c-e91c-496d-a0eb-bdd36c0d5c2e",
   "metadata": {},
   "source": [
    "Embedding Bag Layer"
   ]
  },
  {
   "cell_type": "code",
   "execution_count": 15,
   "id": "45150dad-942d-406c-8c8b-7260df3b0bd2",
   "metadata": {},
   "outputs": [],
   "source": [
    "embedding_dim = 3\n",
    "n_embedding = len(vocab)\n",
    "embedding_bag = nn.EmbeddingBag(n_embedding, embedding_dim)"
   ]
  },
  {
   "cell_type": "code",
   "execution_count": 17,
   "id": "3f460f85-a9b2-4856-874b-1f716fa658aa",
   "metadata": {},
   "outputs": [
    {
     "data": {
      "text/plain": [
       "tensor([[-0.0340, -0.2746,  0.6256]], grad_fn=<EmbeddingBagBackward0>)"
      ]
     },
     "execution_count": 17,
     "metadata": {},
     "output_type": "execute_result"
    }
   ],
   "source": [
    "cats_bag = embedding_bag(index[0], offsets=torch.tensor([0]))\n",
    "cats_bag"
   ]
  },
  {
   "cell_type": "code",
   "execution_count": 18,
   "id": "f90fb79f-d384-4f24-be44-9e334353aaff",
   "metadata": {},
   "outputs": [
    {
     "data": {
      "text/plain": [
       "tensor([0, 7, 2, 0, 4, 3, 0, 1, 6, 8, 5])"
      ]
     },
     "execution_count": 18,
     "metadata": {},
     "output_type": "execute_result"
    }
   ],
   "source": [
    "index_flat = torch.cat(index)\n",
    "index_flat"
   ]
  },
  {
   "cell_type": "code",
   "execution_count": 27,
   "id": "d90d1f2f-dcc1-4e9f-a0f5-3447d929a3fa",
   "metadata": {},
   "outputs": [
    {
     "data": {
      "text/plain": [
       "[0, 3, 3, 5]"
      ]
     },
     "execution_count": 27,
     "metadata": {},
     "output_type": "execute_result"
    }
   ],
   "source": [
    "offset = [len(sample) for sample in index]\n",
    "offset.insert(0, 0)\n",
    "offset"
   ]
  },
  {
   "cell_type": "code",
   "execution_count": 28,
   "id": "161f947e-e859-4a98-88ff-d25e96d3b57b",
   "metadata": {},
   "outputs": [
    {
     "data": {
      "text/plain": [
       "tensor([0, 3, 6])"
      ]
     },
     "execution_count": 28,
     "metadata": {},
     "output_type": "execute_result"
    }
   ],
   "source": [
    "offset = torch.cumsum(torch.tensor(offset), 0)[0:-1]\n",
    "offset"
   ]
  },
  {
   "cell_type": "code",
   "execution_count": 29,
   "id": "766dda53-5d7f-45e4-801c-cced29f5744d",
   "metadata": {},
   "outputs": [
    {
     "data": {
      "text/plain": [
       "tensor([[-0.0340, -0.2746,  0.6256],\n",
       "        [ 0.4936, -0.2994,  0.0887],\n",
       "        [-0.4871,  0.6245,  1.1183]], grad_fn=<EmbeddingBagBackward0>)"
      ]
     },
     "execution_count": 29,
     "metadata": {},
     "output_type": "execute_result"
    }
   ],
   "source": [
    "my_embedding_bag = embedding_bag(index_flat, offsets=offset)\n",
    "my_embedding_bag"
   ]
  },
  {
   "cell_type": "code",
   "execution_count": null,
   "id": "75c875a8-52f8-4973-bfbe-b25108854045",
   "metadata": {},
   "outputs": [],
   "source": []
  }
 ],
 "metadata": {
  "kernelspec": {
   "display_name": "Python 3 (ipykernel)",
   "language": "python",
   "name": "python3"
  },
  "language_info": {
   "codemirror_mode": {
    "name": "ipython",
    "version": 3
   },
   "file_extension": ".py",
   "mimetype": "text/x-python",
   "name": "python",
   "nbconvert_exporter": "python",
   "pygments_lexer": "ipython3",
   "version": "3.12.3"
  }
 },
 "nbformat": 4,
 "nbformat_minor": 5
}
