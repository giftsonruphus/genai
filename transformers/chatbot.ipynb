{
 "cells": [
  {
   "cell_type": "code",
   "execution_count": 1,
   "id": "eb9aa402-c4a3-463f-9014-86a9a8446477",
   "metadata": {},
   "outputs": [
    {
     "name": "stdout",
     "output_type": "stream",
     "text": [
      "Python 3.12.3\n"
     ]
    }
   ],
   "source": [
    "!\"E:\\python\\python312\\python.exe\" --version"
   ]
  },
  {
   "cell_type": "code",
   "execution_count": null,
   "id": "6573854f-0738-4fd4-a57f-a9b739889cd3",
   "metadata": {
    "scrolled": true
   },
   "outputs": [],
   "source": [
    "!\"E:\\python\\python312\\python.exe\" -m pip install -qq tensorflow\n",
    "!\"E:\\python\\python312\\python.exe\" -m pip install -qq transformers\n",
    "!\"E:\\python\\python312\\python.exe\" -m pip install sentencepiece\n",
    "!\"E:\\python\\python312\\python.exe\" -m pip install torch==2.2.2\n",
    "!\"E:\\python\\python312\\python.exe\" -m pip install torchtext==0.17.2"
   ]
  },
  {
   "cell_type": "code",
   "execution_count": 1,
   "id": "67a0eccf-022f-4351-95a2-3ef1ce6e64b0",
   "metadata": {
    "scrolled": true
   },
   "outputs": [],
   "source": [
    "from transformers import AutoTokenizer, AutoModelForSeq2SeqLM"
   ]
  },
  {
   "cell_type": "code",
   "execution_count": null,
   "id": "0d03585f-3e20-46ad-9250-b1a1552b05ec",
   "metadata": {},
   "outputs": [],
   "source": [
    "model_name = \"facebook/blenderbot-400M-distill\"\n",
    "model = AutoModelForSeq2SeqLM.from_pretrained(model_name)\n",
    "tokenizer = AutoTokenizer.from_pretrained(model_name)"
   ]
  },
  {
   "cell_type": "code",
   "execution_count": 2,
   "id": "a4530389-6b6d-4e7f-98e7-3717de84999b",
   "metadata": {},
   "outputs": [],
   "source": [
    "model_name = \"google/flan-t5-base\"\n",
    "tokenizer = AutoTokenizer.from_pretrained(model_name)\n",
    "model = AutoModelForSeq2SeqLM.from_pretrained(model_name)"
   ]
  },
  {
   "cell_type": "code",
   "execution_count": 3,
   "id": "0a914064-48f0-48ac-b9d6-8e8a9d55c0a7",
   "metadata": {},
   "outputs": [],
   "source": [
    "def chat_with_bot():\n",
    "    while True:\n",
    "        # Get user input\n",
    "        input_text = input(\"You: \")\n",
    "\n",
    "        # Exit conditions\n",
    "        if input_text.lower() in [\"quit\", \"exit\", \"bye\"]:\n",
    "            print(\"Chatbot: Goodbye!\")\n",
    "            break\n",
    "\n",
    "        # Tokenize input and generate response\n",
    "        inputs = tokenizer.encode(input_text, return_tensors=\"pt\") # return a pytorch tensor\n",
    "        outputs = model.generate(inputs, max_new_tokens=150) # stop at a max of 150 tokens, else it can keep going on\n",
    "        response = tokenizer.decode(outputs[0], skip_special_tokens=True).strip() # skip special characters like <s> start of sentence <pad> padding..etc\n",
    "\n",
    "        print(\"Chatbot:\", response)\n"
   ]
  },
  {
   "cell_type": "code",
   "execution_count": null,
   "id": "e6a48ad9-dd9b-4281-804d-89b9d6018e35",
   "metadata": {},
   "outputs": [
    {
     "name": "stdin",
     "output_type": "stream",
     "text": [
      "You:  hi\n"
     ]
    },
    {
     "name": "stdout",
     "output_type": "stream",
     "text": [
      "Chatbot: i'm a sailor and i'm a sailor. i'm a sailor and i'm a sailor.\n"
     ]
    },
    {
     "name": "stdin",
     "output_type": "stream",
     "text": [
      "You:  what\n"
     ]
    },
    {
     "name": "stdout",
     "output_type": "stream",
     "text": [
      "Chatbot: a symphony\n"
     ]
    },
    {
     "name": "stdin",
     "output_type": "stream",
     "text": [
      "You:  what are you saying\n"
     ]
    },
    {
     "name": "stdout",
     "output_type": "stream",
     "text": [
      "Chatbot: i'm sorry\n"
     ]
    },
    {
     "name": "stdin",
     "output_type": "stream",
     "text": [
      "You:  how are you today\n"
     ]
    },
    {
     "name": "stdout",
     "output_type": "stream",
     "text": [
      "Chatbot: good\n"
     ]
    },
    {
     "name": "stdin",
     "output_type": "stream",
     "text": [
      "You:  how do you think i am\n"
     ]
    },
    {
     "name": "stdout",
     "output_type": "stream",
     "text": [
      "Chatbot: a snob\n"
     ]
    },
    {
     "name": "stdin",
     "output_type": "stream",
     "text": [
      "You:  what why\n"
     ]
    },
    {
     "name": "stdout",
     "output_type": "stream",
     "text": [
      "Chatbot: why do you need to be a sex addict?\n"
     ]
    },
    {
     "name": "stdin",
     "output_type": "stream",
     "text": [
      "You:  seriously what's wrong with you\n"
     ]
    },
    {
     "name": "stdout",
     "output_type": "stream",
     "text": [
      "Chatbot: I'm not sure what's wrong with you.\n"
     ]
    }
   ],
   "source": [
    "chat_with_bot()"
   ]
  },
  {
   "cell_type": "code",
   "execution_count": null,
   "id": "628240f0-529a-4b25-93f5-bd365cb90bef",
   "metadata": {},
   "outputs": [],
   "source": []
  }
 ],
 "metadata": {
  "kernelspec": {
   "display_name": "Python 3 (ipykernel)",
   "language": "python",
   "name": "python3"
  },
  "language_info": {
   "codemirror_mode": {
    "name": "ipython",
    "version": 3
   },
   "file_extension": ".py",
   "mimetype": "text/x-python",
   "name": "python",
   "nbconvert_exporter": "python",
   "pygments_lexer": "ipython3",
   "version": "3.12.3"
  }
 },
 "nbformat": 4,
 "nbformat_minor": 5
}
