{
 "cells": [
  {
   "cell_type": "markdown",
   "id": "2f9a8018-c070-4b8f-9ec8-2784e407835b",
   "metadata": {},
   "source": [
    "<span style=\"color:green;font-size:20pt\">German English Translation</span>"
   ]
  },
  {
   "cell_type": "code",
   "execution_count": 1,
   "id": "7181d71b-cfc1-4cab-88eb-3343658dab00",
   "metadata": {},
   "outputs": [
    {
     "name": "stdout",
     "output_type": "stream",
     "text": [
      "Collecting de-core-news-sm==3.8.0\n",
      "  Downloading https://github.com/explosion/spacy-models/releases/download/de_core_news_sm-3.8.0/de_core_news_sm-3.8.0-py3-none-any.whl (14.6 MB)\n",
      "     ---------------------------------------- 0.0/14.6 MB ? eta -:--:--\n",
      "     ------------------------- -------------- 9.2/14.6 MB 51.8 MB/s eta 0:00:01\n",
      "     ---------------------------------- ---- 13.1/14.6 MB 32.9 MB/s eta 0:00:01\n",
      "     --------------------------------------- 14.6/14.6 MB 31.7 MB/s eta 0:00:00\n",
      "\u001b[38;5;2m[+] Download and installation successful\u001b[0m\n",
      "You can now load the package via spacy.load('de_core_news_sm')\n"
     ]
    }
   ],
   "source": [
    "!\"E:\\python\\python312\\python.exe\" -m spacy download de_core_news_sm"
   ]
  },
  {
   "cell_type": "code",
   "execution_count": 2,
   "id": "382804b5-1421-4040-8dcd-b02c196318b6",
   "metadata": {},
   "outputs": [],
   "source": [
    "from torch.utils.data import Dataset, DataLoader\n",
    "from torchtext.data.utils import get_tokenizer\n",
    "from torchtext.vocab import build_vocab_from_iterator\n",
    "from torchtext.datasets import multi30k, Multi30k\n",
    "from typing import Iterable, List\n",
    "from torch.nn.utils.rnn import pad_sequence\n",
    "import torchtext\n",
    "import torch"
   ]
  },
  {
   "cell_type": "code",
   "execution_count": 3,
   "id": "5b3c8a49-d2fd-4505-9d51-e6f72919a35c",
   "metadata": {},
   "outputs": [],
   "source": [
    "multi30k.URL[\"train\"] = \"https://cf-courses-data.s3.us.cloud-object-storage.appdomain.cloud/IBMSkillsNetwork-AI0205EN-SkillsNetwork/training.tar.gz\"\n",
    "multi30k.URL[\"valid\"] = \"https://cf-courses-data.s3.us.cloud-object-storage.appdomain.cloud/IBMSkillsNetwork-AI0205EN-SkillsNetwork/validation.tar.gz\""
   ]
  },
  {
   "cell_type": "code",
   "execution_count": 4,
   "id": "7ec492cf-0529-4693-a47d-4447c47273c5",
   "metadata": {},
   "outputs": [],
   "source": [
    "SRC_LANGUAGE = 'de'\n",
    "TGT_LANGUAGE = 'en'"
   ]
  },
  {
   "cell_type": "code",
   "execution_count": 5,
   "id": "21bf024d-753a-4a10-9f88-099ea470b63a",
   "metadata": {},
   "outputs": [
    {
     "name": "stdout",
     "output_type": "stream",
     "text": [
      "sample 1\n",
      "Source (de): Zwei junge weiße Männer sind im Freien in der Nähe vieler Büsche.\n",
      "Target (en): Two young, White males are outside near many bushes.\n",
      "sample 2\n",
      "Source (de): Mehrere Männer mit Schutzhelmen bedienen ein Antriebsradsystem.\n",
      "Target (en): Several men in hard hats are operating a giant pulley system.\n",
      "sample 3\n",
      "Source (de): Ein kleines Mädchen klettert in ein Spielhaus aus Holz.\n",
      "Target (en): A little girl climbing into a wooden playhouse.\n",
      "sample 4\n",
      "Source (de): Ein Mann in einem blauen Hemd steht auf einer Leiter und putzt ein Fenster.\n",
      "Target (en): A man in a blue shirt is standing on a ladder cleaning a window.\n",
      "sample 5\n",
      "Source (de): Zwei Männer stehen am Herd und bereiten Essen zu.\n",
      "Target (en): Two men are at the stove preparing food.\n"
     ]
    }
   ],
   "source": [
    "train_iter = Multi30k(split='train', language_pair=(SRC_LANGUAGE, TGT_LANGUAGE))\n",
    "data_set = iter(train_iter)\n",
    "for n in range(5):\n",
    "    # Getting the next pair of source and target sentences from the training data set\n",
    "    src, tgt = next(data_set)\n",
    "\n",
    "    # Printing the source (German) and target (English) sentences\n",
    "    print(f\"sample {str(n+1)}\")\n",
    "    print(f\"Source ({SRC_LANGUAGE}): {src}\\nTarget ({TGT_LANGUAGE}): {tgt}\")"
   ]
  },
  {
   "cell_type": "code",
   "execution_count": 6,
   "id": "0575d084-9247-400d-885a-a072c9365333",
   "metadata": {},
   "outputs": [
    {
     "name": "stdout",
     "output_type": "stream",
     "text": [
      "Source German (de): Ein Mann in grün hält eine Gitarre, während der andere Mann sein Hemd ansieht.\n",
      "Target English  (en): A man in green holds a guitar while the other man observes his shirt.\n"
     ]
    },
    {
     "data": {
      "text/plain": [
       "['Ein',\n",
       " 'Mann',\n",
       " 'in',\n",
       " 'grün',\n",
       " 'hält',\n",
       " 'eine',\n",
       " 'Gitarre',\n",
       " ',',\n",
       " 'während',\n",
       " 'der',\n",
       " 'andere',\n",
       " 'Mann',\n",
       " 'sein',\n",
       " 'Hemd',\n",
       " 'ansieht',\n",
       " '.']"
      ]
     },
     "execution_count": 6,
     "metadata": {},
     "output_type": "execute_result"
    }
   ],
   "source": [
    "german, english = next(data_set)\n",
    "print(f\"Source German ({SRC_LANGUAGE}): {german}\\nTarget English  ({TGT_LANGUAGE}): { english }\")\n",
    "token_transform = {}\n",
    "\n",
    "token_transform[SRC_LANGUAGE] = get_tokenizer('spacy', language='de_core_news_sm')\n",
    "token_transform[TGT_LANGUAGE] = get_tokenizer('spacy', language='en_core_web_sm')\n",
    "token_transform['de'](german)"
   ]
  },
  {
   "cell_type": "code",
   "execution_count": 7,
   "id": "7d331807-ab35-45a5-a235-1d2935bf0692",
   "metadata": {},
   "outputs": [
    {
     "data": {
      "text/plain": [
       "['A',\n",
       " 'man',\n",
       " 'in',\n",
       " 'green',\n",
       " 'holds',\n",
       " 'a',\n",
       " 'guitar',\n",
       " 'while',\n",
       " 'the',\n",
       " 'other',\n",
       " 'man',\n",
       " 'observes',\n",
       " 'his',\n",
       " 'shirt',\n",
       " '.']"
      ]
     },
     "execution_count": 7,
     "metadata": {},
     "output_type": "execute_result"
    }
   ],
   "source": [
    "token_transform['en'](english)"
   ]
  },
  {
   "cell_type": "code",
   "execution_count": 8,
   "id": "e5ea5f6f-938b-4d3a-a4df-b9dece5e3ffd",
   "metadata": {},
   "outputs": [],
   "source": [
    "# Define special symbols and indices\n",
    "UNK_IDX, PAD_IDX, BOS_IDX, EOS_IDX = 0, 1, 2, 3\n",
    "# Make sure the tokens are in order of their indices to properly insert them in vocab\n",
    "special_symbols = ['<unk>', '<pad>', '<bos>', '<eos>']"
   ]
  },
  {
   "cell_type": "code",
   "execution_count": 9,
   "id": "9da6b643-269f-40dd-bf31-294445340bfd",
   "metadata": {},
   "outputs": [],
   "source": [
    "vocab_transform = {}"
   ]
  },
  {
   "cell_type": "code",
   "execution_count": 10,
   "id": "c887abc2-eaf3-4145-acd1-4d349d53ca7d",
   "metadata": {},
   "outputs": [],
   "source": [
    "def yield_tokens(data_iter: Iterable, language: str) -> List[str]:\n",
    "    # Define a mapping to associate the source and target languages\n",
    "    # with their respective positions in the data samples.\n",
    "    language_index = {SRC_LANGUAGE: 0, TGT_LANGUAGE: 1}\n",
    "\n",
    "    # Iterate over each data sample in the provided dataset iterator\n",
    "    for data_sample in data_iter:\n",
    "        # Tokenize the data sample corresponding to the specified language\n",
    "        # and yield the resulting tokens.\n",
    "        yield token_transform[language](data_sample[language_index[language]])"
   ]
  },
  {
   "cell_type": "code",
   "execution_count": 11,
   "id": "148a88a6-fcdc-46c4-b9ca-80de1a3077ea",
   "metadata": {},
   "outputs": [],
   "source": [
    "for ln in [SRC_LANGUAGE, TGT_LANGUAGE]:\n",
    "    # Training data iterator\n",
    "    train_iterator = Multi30k(split='train', language_pair=(SRC_LANGUAGE, TGT_LANGUAGE))\n",
    "    #To decrease the number of padding tokens, you sort data on the source length to batch similar-length sequences together\n",
    "    sorted_dataset = sorted(train_iterator, key=lambda x: len(x[0].split()))\n",
    "    # Create torchtext's Vocab object\n",
    "    vocab_transform[ln] = build_vocab_from_iterator(yield_tokens(sorted_dataset, ln),\n",
    "                                                    min_freq=1,\n",
    "                                                    specials=special_symbols,\n",
    "                                                    special_first=True)"
   ]
  },
  {
   "cell_type": "code",
   "execution_count": 12,
   "id": "6a2f7633-1bd9-4123-847f-f87d7f73774c",
   "metadata": {},
   "outputs": [],
   "source": [
    "for ln in [SRC_LANGUAGE, TGT_LANGUAGE]:\n",
    "  vocab_transform[ln].set_default_index(UNK_IDX)"
   ]
  },
  {
   "cell_type": "code",
   "execution_count": 13,
   "id": "ec914638-eb55-45d3-bccd-c7fde3d778f4",
   "metadata": {},
   "outputs": [
    {
     "name": "stdout",
     "output_type": "stream",
     "text": [
      "English text string: A man in green holds a guitar while the other man observes his shirt.\n",
      " English sequence: [6, 12, 7, 51, 144, 4, 126, 29, 8, 75, 12, 1748, 27, 23, 5]\n",
      "German text string: Ein Mann in grün hält eine Gitarre, während der andere Mann sein Hemd ansieht.\n",
      " German sequence: [5, 12, 7, 657, 39, 18, 133, 8, 37, 16, 105, 12, 136, 41, 1779, 4]\n"
     ]
    }
   ],
   "source": [
    "seq_en=vocab_transform['en'](token_transform['en'](english))\n",
    "print(f\"English text string: {english}\\n English sequence: {seq_en}\")\n",
    "\n",
    "seq_de=vocab_transform['de'](token_transform['de'](german))\n",
    "print(f\"German text string: {german}\\n German sequence: {seq_de}\")\n"
   ]
  },
  {
   "cell_type": "code",
   "execution_count": 15,
   "id": "4879d42b-1f28-4afc-a8fe-63e8c98dbdbe",
   "metadata": {},
   "outputs": [
    {
     "data": {
      "text/plain": [
       "device(type='cpu')"
      ]
     },
     "execution_count": 15,
     "metadata": {},
     "output_type": "execute_result"
    }
   ],
   "source": [
    "device = torch.device('cuda' if torch.cuda.is_available() else 'cpu')\n",
    "device"
   ]
  },
  {
   "cell_type": "code",
   "execution_count": 17,
   "id": "9c0b1073-7d5e-4207-a21b-a0284e76bc06",
   "metadata": {},
   "outputs": [],
   "source": [
    "# function to add BOS/EOS, flip source sentence and create tensor for input sequence indices\n",
    "def tensor_transform_s(token_ids: List[int]):\n",
    "    return torch.cat((torch.tensor([BOS_IDX]),\n",
    "                      torch.flip(torch.tensor(token_ids), dims=(0,)),\n",
    "                      torch.tensor([EOS_IDX])))\n",
    "\n",
    "# function to add BOS/EOS and create tensor for input sequence indices\n",
    "def tensor_transform_t(token_ids: List[int]):\n",
    "    return torch.cat((torch.tensor([BOS_IDX]),\n",
    "                      torch.tensor(token_ids),\n",
    "                      torch.tensor([EOS_IDX])))"
   ]
  },
  {
   "cell_type": "code",
   "execution_count": 18,
   "id": "96eff0f0-40fa-4fc0-97d2-ff0168f0319f",
   "metadata": {},
   "outputs": [
    {
     "data": {
      "text/plain": [
       "tensor([   2,    5,   23,   27, 1748,   12,   75,    8,   29,  126,    4,  144,\n",
       "          51,    7,   12,    6,    3])"
      ]
     },
     "execution_count": 18,
     "metadata": {},
     "output_type": "execute_result"
    }
   ],
   "source": [
    "seq_en=tensor_transform_s(seq_en)\n",
    "seq_en"
   ]
  },
  {
   "cell_type": "code",
   "execution_count": 19,
   "id": "eda46070-cb84-495b-b0fb-7f4e771f59c6",
   "metadata": {},
   "outputs": [
    {
     "data": {
      "text/plain": [
       "tensor([   2,    5,   12,    7,  657,   39,   18,  133,    8,   37,   16,  105,\n",
       "          12,  136,   41, 1779,    4,    3])"
      ]
     },
     "execution_count": 19,
     "metadata": {},
     "output_type": "execute_result"
    }
   ],
   "source": [
    "seq_de=tensor_transform_t(seq_de)\n",
    "seq_de"
   ]
  },
  {
   "cell_type": "code",
   "execution_count": 20,
   "id": "79a4b945-ba01-46e0-b5a5-6279d73df790",
   "metadata": {},
   "outputs": [],
   "source": [
    "# helper function to club together sequential operations\n",
    "def sequential_transforms(*transforms):\n",
    "    def func(txt_input):\n",
    "        for transform in transforms:\n",
    "            txt_input = transform(txt_input)\n",
    "        return txt_input\n",
    "    return func\n",
    "\n",
    "# ``src`` and ``tgt`` language text transforms to convert raw strings into tensors indices\n",
    "text_transform = {}\n",
    "\n",
    "text_transform[SRC_LANGUAGE] = sequential_transforms(token_transform[SRC_LANGUAGE], #Tokenization\n",
    "                                            vocab_transform[SRC_LANGUAGE], #Numericalization\n",
    "                                            tensor_transform_s) # Add BOS/EOS and create tensor\n",
    "\n",
    "text_transform[TGT_LANGUAGE] = sequential_transforms(token_transform[TGT_LANGUAGE], #Tokenization\n",
    "                                            vocab_transform[TGT_LANGUAGE], #Numericalization\n",
    "                                            tensor_transform_t) # Add BOS/EOS and create tensor\n"
   ]
  },
  {
   "cell_type": "code",
   "execution_count": 21,
   "id": "d2b24376-5b49-447e-9d50-2e17271ec664",
   "metadata": {},
   "outputs": [],
   "source": [
    "# function to collate data samples into batch tensors\n",
    "def collate_fn(batch):\n",
    "    src_batch, tgt_batch = [], []\n",
    "    for src_sample, tgt_sample in batch:\n",
    "        src_sequences = text_transform[SRC_LANGUAGE](src_sample.rstrip(\"\\n\"))\n",
    "        src_sequences = torch.tensor(src_sequences, dtype=torch.int64)\n",
    "        tgt_sequences = text_transform[TGT_LANGUAGE](tgt_sample.rstrip(\"\\n\"))\n",
    "        tgt_sequences = torch.tensor(tgt_sequences, dtype=torch.int64)\n",
    "        src_batch.append(src_sequences)\n",
    "        tgt_batch.append(tgt_sequences)\n",
    "\n",
    "    src_batch = pad_sequence(src_batch, padding_value=PAD_IDX,batch_first=True)\n",
    "    tgt_batch = pad_sequence(tgt_batch, padding_value=PAD_IDX,batch_first=True)\n",
    "    \n",
    "    return src_batch.to(device), tgt_batch.to(device)"
   ]
  },
  {
   "cell_type": "code",
   "execution_count": 22,
   "id": "3a99b29c-ae41-456c-b730-713b42c0c8a9",
   "metadata": {},
   "outputs": [
    {
     "name": "stderr",
     "output_type": "stream",
     "text": [
      "C:\\Users\\DEC0D\\AppData\\Local\\Temp\\ipykernel_20728\\2458598798.py:6: UserWarning: To copy construct from a tensor, it is recommended to use sourceTensor.clone().detach() or sourceTensor.clone().detach().requires_grad_(True), rather than torch.tensor(sourceTensor).\n",
      "  src_sequences = torch.tensor(src_sequences, dtype=torch.int64)\n",
      "C:\\Users\\DEC0D\\AppData\\Local\\Temp\\ipykernel_20728\\2458598798.py:8: UserWarning: To copy construct from a tensor, it is recommended to use sourceTensor.clone().detach() or sourceTensor.clone().detach().requires_grad_(True), rather than torch.tensor(sourceTensor).\n",
      "  tgt_sequences = torch.tensor(tgt_sequences, dtype=torch.int64)\n"
     ]
    },
    {
     "data": {
      "text/plain": [
       "(tensor([[    2,     3,     1,     1,     1],\n",
       "         [    2,  5510,     3,     1,     1],\n",
       "         [    2,  5510,     3,     1,     1],\n",
       "         [    2,  1701,     8, 12642,     3]]),\n",
       " tensor([[   2,    3,    1,    1,    1,    1,    1,    1,    1,    1,    1],\n",
       "         [   2, 6650, 4623,  259,  172, 9953,  115,  692, 3428,    5,    3],\n",
       "         [   2,  216,  110, 3913, 1650, 3823,   71, 2808, 2187,    5,    3],\n",
       "         [   2,    6, 3398,  202,  109,   37,    3,    1,    1,    1,    1]]))"
      ]
     },
     "execution_count": 22,
     "metadata": {},
     "output_type": "execute_result"
    }
   ],
   "source": [
    "BATCH_SIZE = 4\n",
    "\n",
    "train_iterator = Multi30k(split='train', language_pair=(SRC_LANGUAGE, TGT_LANGUAGE))\n",
    "sorted_train_iterator = sorted(train_iterator, key=lambda x: len(x[0].split()))\n",
    "train_dataloader = DataLoader(sorted_train_iterator, batch_size=BATCH_SIZE, collate_fn=collate_fn,drop_last=True)\n",
    "\n",
    "valid_iterator = Multi30k(split='valid', language_pair=(SRC_LANGUAGE, TGT_LANGUAGE))\n",
    "sorted_valid_dataloader = sorted(valid_iterator, key=lambda x: len(x[0].split()))\n",
    "valid_dataloader = DataLoader(sorted_valid_dataloader, batch_size=BATCH_SIZE, collate_fn=collate_fn,drop_last=True)\n",
    "\n",
    "\n",
    "src, trg = next(iter(train_dataloader))\n",
    "src,trg"
   ]
  },
  {
   "cell_type": "code",
   "execution_count": null,
   "id": "cf476954-ecc6-4392-93fa-5b28c1025f6c",
   "metadata": {},
   "outputs": [],
   "source": []
  }
 ],
 "metadata": {
  "kernelspec": {
   "display_name": "Python 3 (ipykernel)",
   "language": "python",
   "name": "python3"
  },
  "language_info": {
   "codemirror_mode": {
    "name": "ipython",
    "version": 3
   },
   "file_extension": ".py",
   "mimetype": "text/x-python",
   "name": "python",
   "nbconvert_exporter": "python",
   "pygments_lexer": "ipython3",
   "version": "3.12.3"
  }
 },
 "nbformat": 4,
 "nbformat_minor": 5
}
